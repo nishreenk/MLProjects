{
  "nbformat": 4,
  "nbformat_minor": 0,
  "metadata": {
    "kernelspec": {
      "display_name": "Python 3",
      "language": "python",
      "name": "python3"
    },
    "language_info": {
      "codemirror_mode": {
        "name": "ipython",
        "version": 3
      },
      "file_extension": ".py",
      "mimetype": "text/x-python",
      "name": "python",
      "nbconvert_exporter": "python",
      "pygments_lexer": "ipython3",
      "version": "3.7.1"
    },
    "colab": {
      "name": "MovieLens Project.ipynb",
      "provenance": [],
      "collapsed_sections": []
    }
  },
  "cells": [
    {
      "cell_type": "markdown",
      "metadata": {
        "id": "lJawHJ_fvgkP"
      },
      "source": [
        "### Project - MovieLens Data Analysis\n",
        "\n",
        "The GroupLens Research Project is a research group in the Department of Computer Science and Engineering at the University of Minnesota. The data is widely used for collaborative filtering and other filtering solutions. Using this data to demonstrate EDA,visualizations, merge and groupby methods in Pandas.\n",
        "\n",
        "### Datasets Information:\n",
        "\n",
        "- Data.csv: It contains information of ratings given by the users to a particular movie. \n",
        "\n",
        "    - Columns: user id, movie id, rating, timestamp\n",
        "\n",
        "- item.csv: File contains information related to the movies and its genre.\n",
        "\n",
        "    - Columns: movie id, movie title, release date, unknown, Action, Adventure, Animation, Children’s, Comedy, Crime, Documentary, Drama, Fantasy, Film-Noir, Horror, Musical, Mystery, Romance, Sci-Fi, Thriller, War, Western\n",
        "\n",
        "- user.csv: It contains information of the users who have rated the movies. \n",
        "\n",
        "    - Columns: user id, age, gender, occupation, zip code\n",
        "\n",
        "### Objective:\n",
        "\n",
        "- To show the trend in popularity of genres over the years\n",
        "- To find the Top 25 movies from average ratings \n",
        "- What is the gender distribution across different genres\n",
        "\n",
        "\n",
        "### Learning Outcomes:\n",
        "- Exploratory Data Analysis\n",
        "\n",
        "- Visualization using Python\n",
        "\n",
        "- Pandas – groupby, merging \n",
        "\n",
        "\n",
        "#### Domain \n",
        "`Internet and Entertainment`\n",
        "\n"
      ]
    },
    {
      "cell_type": "code",
      "metadata": {
        "colab": {
          "base_uri": "https://localhost:8080/"
        },
        "id": "v0jAXqXXWQK1",
        "outputId": "ec08f0ea-4649-4766-8773-2ca8789e02d5"
      },
      "source": [
        "from google.colab import drive\r\n",
        "drive.mount('/content/drive')\r\n",
        "DATA_PATH = '/content/drive/My Drive/Colab Notebooks/UTA_AIML/Movie_Lens/'"
      ],
      "execution_count": 1,
      "outputs": [
        {
          "output_type": "stream",
          "text": [
            "Mounted at /content/drive\n"
          ],
          "name": "stdout"
        }
      ]
    },
    {
      "cell_type": "markdown",
      "metadata": {
        "id": "1t9zWSE8vgkZ"
      },
      "source": [
        "#### 1. Import the necessary packages and read in the datasets into dataframes"
      ]
    },
    {
      "cell_type": "code",
      "metadata": {
        "id": "C9xFVJoWvgkY"
      },
      "source": [
        "import numpy as np\n",
        "import pandas as pd\n",
        "import seaborn as sns\n",
        "from matplotlib import pyplot as plt\n",
        "from scipy.stats import skew, norm, probplot, boxcox, f_oneway\n",
        "pd.options.display.float_format = '{:,.2f}'.format  "
      ],
      "execution_count": 2,
      "outputs": []
    },
    {
      "cell_type": "code",
      "metadata": {
        "id": "1FEUJeLpvgka"
      },
      "source": [
        "rating  = pd.read_csv(DATA_PATH+'Data.csv')    # Columns are user id\tmovie id\trating\ttimestamp\n",
        "movie = pd.read_csv(DATA_PATH+'item.csv')    # Movie id, rating, genres, release date, rating info\n",
        "user  = pd.read_csv(DATA_PATH+'user.csv')    # user id\tage, gender, occupation, zip code"
      ],
      "execution_count": 3,
      "outputs": []
    },
    {
      "cell_type": "code",
      "metadata": {
        "colab": {
          "base_uri": "https://localhost:8080/"
        },
        "id": "mNFflQg2vgkc",
        "outputId": "733ea71d-a1eb-4bd0-f744-9832cf8d48c4"
      },
      "source": [
        "print(rating.info())\r\n",
        "print(rating.shape) \r\n",
        "print(rating.describe())\r\n",
        "print(rating.isnull().sum())"
      ],
      "execution_count": 4,
      "outputs": [
        {
          "output_type": "stream",
          "text": [
            "<class 'pandas.core.frame.DataFrame'>\n",
            "RangeIndex: 100000 entries, 0 to 99999\n",
            "Data columns (total 4 columns):\n",
            " #   Column     Non-Null Count   Dtype\n",
            "---  ------     --------------   -----\n",
            " 0   user id    100000 non-null  int64\n",
            " 1   movie id   100000 non-null  int64\n",
            " 2   rating     100000 non-null  int64\n",
            " 3   timestamp  100000 non-null  int64\n",
            "dtypes: int64(4)\n",
            "memory usage: 3.1 MB\n",
            "None\n",
            "(100000, 4)\n",
            "         user id   movie id     rating      timestamp\n",
            "count 100,000.00 100,000.00 100,000.00     100,000.00\n",
            "mean      462.48     425.53       3.53 883,528,851.49\n",
            "std       266.61     330.80       1.13   5,343,856.19\n",
            "min         1.00       1.00       1.00 874,724,710.00\n",
            "25%       254.00     175.00       3.00 879,448,709.50\n",
            "50%       447.00     322.00       4.00 882,826,944.00\n",
            "75%       682.00     631.00       4.00 888,259,984.00\n",
            "max       943.00   1,682.00       5.00 893,286,638.00\n",
            "user id      0\n",
            "movie id     0\n",
            "rating       0\n",
            "timestamp    0\n",
            "dtype: int64\n"
          ],
          "name": "stdout"
        }
      ]
    },
    {
      "cell_type": "code",
      "metadata": {
        "colab": {
          "base_uri": "https://localhost:8080/"
        },
        "id": "r8BpvWenvgkh",
        "outputId": "ffc7840e-e855-4401-f2b2-763a0db29da7"
      },
      "source": [
        "print(movie.info())\r\n",
        "print(movie.shape)\r\n",
        "print(movie.describe())\r\n",
        "print(movie.isnull().sum())\r\n"
      ],
      "execution_count": 5,
      "outputs": [
        {
          "output_type": "stream",
          "text": [
            "<class 'pandas.core.frame.DataFrame'>\n",
            "RangeIndex: 1681 entries, 0 to 1680\n",
            "Data columns (total 22 columns):\n",
            " #   Column        Non-Null Count  Dtype \n",
            "---  ------        --------------  ----- \n",
            " 0   movie id      1681 non-null   int64 \n",
            " 1   movie title   1681 non-null   object\n",
            " 2   release date  1681 non-null   object\n",
            " 3   unknown       1681 non-null   int64 \n",
            " 4   Action        1681 non-null   int64 \n",
            " 5   Adventure     1681 non-null   int64 \n",
            " 6   Animation     1681 non-null   int64 \n",
            " 7   Childrens     1681 non-null   int64 \n",
            " 8   Comedy        1681 non-null   int64 \n",
            " 9   Crime         1681 non-null   int64 \n",
            " 10  Documentary   1681 non-null   int64 \n",
            " 11  Drama         1681 non-null   int64 \n",
            " 12  Fantasy       1681 non-null   int64 \n",
            " 13  Film-Noir     1681 non-null   int64 \n",
            " 14  Horror        1681 non-null   int64 \n",
            " 15  Musical       1681 non-null   int64 \n",
            " 16  Mystery       1681 non-null   int64 \n",
            " 17  Romance       1681 non-null   int64 \n",
            " 18  Sci-Fi        1681 non-null   int64 \n",
            " 19  Thriller      1681 non-null   int64 \n",
            " 20  War           1681 non-null   int64 \n",
            " 21  Western       1681 non-null   int64 \n",
            "dtypes: int64(20), object(2)\n",
            "memory usage: 289.0+ KB\n",
            "None\n",
            "(1681, 22)\n",
            "       movie id  unknown   Action  ...  Thriller      War  Western\n",
            "count  1,681.00 1,681.00 1,681.00  ...  1,681.00 1,681.00 1,681.00\n",
            "mean     841.84     0.00     0.15  ...      0.15     0.04     0.02\n",
            "std      485.64     0.02     0.36  ...      0.36     0.20     0.13\n",
            "min        1.00     0.00     0.00  ...      0.00     0.00     0.00\n",
            "25%      422.00     0.00     0.00  ...      0.00     0.00     0.00\n",
            "50%      842.00     0.00     0.00  ...      0.00     0.00     0.00\n",
            "75%    1,262.00     0.00     0.00  ...      0.00     0.00     0.00\n",
            "max    1,682.00     1.00     1.00  ...      1.00     1.00     1.00\n",
            "\n",
            "[8 rows x 20 columns]\n",
            "movie id        0\n",
            "movie title     0\n",
            "release date    0\n",
            "unknown         0\n",
            "Action          0\n",
            "Adventure       0\n",
            "Animation       0\n",
            "Childrens       0\n",
            "Comedy          0\n",
            "Crime           0\n",
            "Documentary     0\n",
            "Drama           0\n",
            "Fantasy         0\n",
            "Film-Noir       0\n",
            "Horror          0\n",
            "Musical         0\n",
            "Mystery         0\n",
            "Romance         0\n",
            "Sci-Fi          0\n",
            "Thriller        0\n",
            "War             0\n",
            "Western         0\n",
            "dtype: int64\n"
          ],
          "name": "stdout"
        }
      ]
    },
    {
      "cell_type": "code",
      "metadata": {
        "colab": {
          "base_uri": "https://localhost:8080/"
        },
        "id": "II5iSUSavgki",
        "outputId": "4894d942-4b79-45c7-9606-fd3258915a6a"
      },
      "source": [
        "print(user.info())\r\n",
        "print(user.shape)\r\n",
        "print(user.describe())\r\n",
        "print(user.isnull().sum())"
      ],
      "execution_count": 6,
      "outputs": [
        {
          "output_type": "stream",
          "text": [
            "<class 'pandas.core.frame.DataFrame'>\n",
            "RangeIndex: 943 entries, 0 to 942\n",
            "Data columns (total 5 columns):\n",
            " #   Column      Non-Null Count  Dtype \n",
            "---  ------      --------------  ----- \n",
            " 0   user id     943 non-null    int64 \n",
            " 1   age         943 non-null    int64 \n",
            " 2   gender      943 non-null    object\n",
            " 3   occupation  943 non-null    object\n",
            " 4   zip code    943 non-null    object\n",
            "dtypes: int64(2), object(3)\n",
            "memory usage: 37.0+ KB\n",
            "None\n",
            "(943, 5)\n",
            "       user id    age\n",
            "count   943.00 943.00\n",
            "mean    472.00  34.05\n",
            "std     272.36  12.19\n",
            "min       1.00   7.00\n",
            "25%     236.50  25.00\n",
            "50%     472.00  31.00\n",
            "75%     707.50  43.00\n",
            "max     943.00  73.00\n",
            "user id       0\n",
            "age           0\n",
            "gender        0\n",
            "occupation    0\n",
            "zip code      0\n",
            "dtype: int64\n"
          ],
          "name": "stdout"
        }
      ]
    },
    {
      "cell_type": "markdown",
      "metadata": {
        "id": "nX3spGAyvgkj"
      },
      "source": [
        "#### 4. The number of movies per genre "
      ]
    },
    {
      "cell_type": "code",
      "metadata": {
        "scrolled": true,
        "id": "U_qcxUX9vgkk"
      },
      "source": [
        "# using sum \n",
        "movie_genres = ['unknown', 'Action',\n",
        "       'Adventure', 'Animation', 'Childrens', 'Comedy', 'Crime', 'Documentary',\n",
        "       'Drama', 'Fantasy', 'Film-Noir', 'Horror', 'Musical', 'Mystery',\n",
        "       'Romance', 'Sci-Fi', 'Thriller', 'War', 'Western']\n",
        "\n",
        "movie['num_of_genre'] = movie[movie_genres].sum(axis=1)"
      ],
      "execution_count": 8,
      "outputs": []
    },
    {
      "cell_type": "code",
      "metadata": {
        "colab": {
          "base_uri": "https://localhost:8080/",
          "height": 259
        },
        "id": "WJmGQMFy07Pp",
        "outputId": "6a5b75a8-7365-4fb0-dbe6-12b55526aebb"
      },
      "source": [
        "movie.sample(3)"
      ],
      "execution_count": 10,
      "outputs": [
        {
          "output_type": "execute_result",
          "data": {
            "text/html": [
              "<div>\n",
              "<style scoped>\n",
              "    .dataframe tbody tr th:only-of-type {\n",
              "        vertical-align: middle;\n",
              "    }\n",
              "\n",
              "    .dataframe tbody tr th {\n",
              "        vertical-align: top;\n",
              "    }\n",
              "\n",
              "    .dataframe thead th {\n",
              "        text-align: right;\n",
              "    }\n",
              "</style>\n",
              "<table border=\"1\" class=\"dataframe\">\n",
              "  <thead>\n",
              "    <tr style=\"text-align: right;\">\n",
              "      <th></th>\n",
              "      <th>movie id</th>\n",
              "      <th>movie title</th>\n",
              "      <th>release date</th>\n",
              "      <th>unknown</th>\n",
              "      <th>Action</th>\n",
              "      <th>Adventure</th>\n",
              "      <th>Animation</th>\n",
              "      <th>Childrens</th>\n",
              "      <th>Comedy</th>\n",
              "      <th>Crime</th>\n",
              "      <th>Documentary</th>\n",
              "      <th>Drama</th>\n",
              "      <th>Fantasy</th>\n",
              "      <th>Film-Noir</th>\n",
              "      <th>Horror</th>\n",
              "      <th>Musical</th>\n",
              "      <th>Mystery</th>\n",
              "      <th>Romance</th>\n",
              "      <th>Sci-Fi</th>\n",
              "      <th>Thriller</th>\n",
              "      <th>War</th>\n",
              "      <th>Western</th>\n",
              "      <th>num_of_genre</th>\n",
              "    </tr>\n",
              "  </thead>\n",
              "  <tbody>\n",
              "    <tr>\n",
              "      <th>1305</th>\n",
              "      <td>1307</td>\n",
              "      <td>Carmen Miranda: Bananas Is My Business</td>\n",
              "      <td>01-Jan-1994</td>\n",
              "      <td>0</td>\n",
              "      <td>0</td>\n",
              "      <td>0</td>\n",
              "      <td>0</td>\n",
              "      <td>0</td>\n",
              "      <td>0</td>\n",
              "      <td>0</td>\n",
              "      <td>1</td>\n",
              "      <td>0</td>\n",
              "      <td>0</td>\n",
              "      <td>0</td>\n",
              "      <td>0</td>\n",
              "      <td>0</td>\n",
              "      <td>0</td>\n",
              "      <td>0</td>\n",
              "      <td>0</td>\n",
              "      <td>0</td>\n",
              "      <td>0</td>\n",
              "      <td>0</td>\n",
              "      <td>1</td>\n",
              "    </tr>\n",
              "    <tr>\n",
              "      <th>1566</th>\n",
              "      <td>1568</td>\n",
              "      <td>Vermont Is For Lovers</td>\n",
              "      <td>01-Jan-1992</td>\n",
              "      <td>0</td>\n",
              "      <td>0</td>\n",
              "      <td>0</td>\n",
              "      <td>0</td>\n",
              "      <td>0</td>\n",
              "      <td>1</td>\n",
              "      <td>0</td>\n",
              "      <td>0</td>\n",
              "      <td>0</td>\n",
              "      <td>0</td>\n",
              "      <td>0</td>\n",
              "      <td>0</td>\n",
              "      <td>0</td>\n",
              "      <td>0</td>\n",
              "      <td>1</td>\n",
              "      <td>0</td>\n",
              "      <td>0</td>\n",
              "      <td>0</td>\n",
              "      <td>0</td>\n",
              "      <td>2</td>\n",
              "    </tr>\n",
              "    <tr>\n",
              "      <th>1229</th>\n",
              "      <td>1231</td>\n",
              "      <td>Marked for Death</td>\n",
              "      <td>01-Jan-1990</td>\n",
              "      <td>0</td>\n",
              "      <td>1</td>\n",
              "      <td>0</td>\n",
              "      <td>0</td>\n",
              "      <td>0</td>\n",
              "      <td>0</td>\n",
              "      <td>0</td>\n",
              "      <td>0</td>\n",
              "      <td>1</td>\n",
              "      <td>0</td>\n",
              "      <td>0</td>\n",
              "      <td>0</td>\n",
              "      <td>0</td>\n",
              "      <td>0</td>\n",
              "      <td>0</td>\n",
              "      <td>0</td>\n",
              "      <td>0</td>\n",
              "      <td>0</td>\n",
              "      <td>0</td>\n",
              "      <td>2</td>\n",
              "    </tr>\n",
              "  </tbody>\n",
              "</table>\n",
              "</div>"
            ],
            "text/plain": [
              "      movie id                              movie title  ... Western  num_of_genre\n",
              "1305      1307  Carmen Miranda: Bananas Is My Business   ...       0             1\n",
              "1566      1568                   Vermont Is For Lovers   ...       0             2\n",
              "1229      1231                        Marked for Death   ...       0             2\n",
              "\n",
              "[3 rows x 23 columns]"
            ]
          },
          "metadata": {
            "tags": []
          },
          "execution_count": 10
        }
      ]
    },
    {
      "cell_type": "markdown",
      "metadata": {
        "id": "ywjKYwYlvgkk"
      },
      "source": [
        "#### 5. Movies that have more than one genre "
      ]
    },
    {
      "cell_type": "code",
      "metadata": {
        "colab": {
          "base_uri": "https://localhost:8080/",
          "height": 597
        },
        "id": "1n06-BqNvgkk",
        "outputId": "af6bc5ee-bc76-4b4e-de73-f88455dce39d"
      },
      "source": [
        "#Show movies with more than 1 genre\n",
        "movie[movie['num_of_genre'] > 1]    # 849 movies are included in more than one genre"
      ],
      "execution_count": 13,
      "outputs": [
        {
          "output_type": "execute_result",
          "data": {
            "text/html": [
              "<div>\n",
              "<style scoped>\n",
              "    .dataframe tbody tr th:only-of-type {\n",
              "        vertical-align: middle;\n",
              "    }\n",
              "\n",
              "    .dataframe tbody tr th {\n",
              "        vertical-align: top;\n",
              "    }\n",
              "\n",
              "    .dataframe thead th {\n",
              "        text-align: right;\n",
              "    }\n",
              "</style>\n",
              "<table border=\"1\" class=\"dataframe\">\n",
              "  <thead>\n",
              "    <tr style=\"text-align: right;\">\n",
              "      <th></th>\n",
              "      <th>movie id</th>\n",
              "      <th>movie title</th>\n",
              "      <th>release date</th>\n",
              "      <th>unknown</th>\n",
              "      <th>Action</th>\n",
              "      <th>Adventure</th>\n",
              "      <th>Animation</th>\n",
              "      <th>Childrens</th>\n",
              "      <th>Comedy</th>\n",
              "      <th>Crime</th>\n",
              "      <th>Documentary</th>\n",
              "      <th>Drama</th>\n",
              "      <th>Fantasy</th>\n",
              "      <th>Film-Noir</th>\n",
              "      <th>Horror</th>\n",
              "      <th>Musical</th>\n",
              "      <th>Mystery</th>\n",
              "      <th>Romance</th>\n",
              "      <th>Sci-Fi</th>\n",
              "      <th>Thriller</th>\n",
              "      <th>War</th>\n",
              "      <th>Western</th>\n",
              "      <th>num_of_genre</th>\n",
              "    </tr>\n",
              "  </thead>\n",
              "  <tbody>\n",
              "    <tr>\n",
              "      <th>0</th>\n",
              "      <td>1</td>\n",
              "      <td>Toy Story</td>\n",
              "      <td>01-Jan-1995</td>\n",
              "      <td>0</td>\n",
              "      <td>0</td>\n",
              "      <td>0</td>\n",
              "      <td>1</td>\n",
              "      <td>1</td>\n",
              "      <td>1</td>\n",
              "      <td>0</td>\n",
              "      <td>0</td>\n",
              "      <td>0</td>\n",
              "      <td>0</td>\n",
              "      <td>0</td>\n",
              "      <td>0</td>\n",
              "      <td>0</td>\n",
              "      <td>0</td>\n",
              "      <td>0</td>\n",
              "      <td>0</td>\n",
              "      <td>0</td>\n",
              "      <td>0</td>\n",
              "      <td>0</td>\n",
              "      <td>3</td>\n",
              "    </tr>\n",
              "    <tr>\n",
              "      <th>1</th>\n",
              "      <td>2</td>\n",
              "      <td>GoldenEye</td>\n",
              "      <td>01-Jan-1995</td>\n",
              "      <td>0</td>\n",
              "      <td>1</td>\n",
              "      <td>1</td>\n",
              "      <td>0</td>\n",
              "      <td>0</td>\n",
              "      <td>0</td>\n",
              "      <td>0</td>\n",
              "      <td>0</td>\n",
              "      <td>0</td>\n",
              "      <td>0</td>\n",
              "      <td>0</td>\n",
              "      <td>0</td>\n",
              "      <td>0</td>\n",
              "      <td>0</td>\n",
              "      <td>0</td>\n",
              "      <td>0</td>\n",
              "      <td>1</td>\n",
              "      <td>0</td>\n",
              "      <td>0</td>\n",
              "      <td>3</td>\n",
              "    </tr>\n",
              "    <tr>\n",
              "      <th>3</th>\n",
              "      <td>4</td>\n",
              "      <td>Get Shorty</td>\n",
              "      <td>01-Jan-1995</td>\n",
              "      <td>0</td>\n",
              "      <td>1</td>\n",
              "      <td>0</td>\n",
              "      <td>0</td>\n",
              "      <td>0</td>\n",
              "      <td>1</td>\n",
              "      <td>0</td>\n",
              "      <td>0</td>\n",
              "      <td>1</td>\n",
              "      <td>0</td>\n",
              "      <td>0</td>\n",
              "      <td>0</td>\n",
              "      <td>0</td>\n",
              "      <td>0</td>\n",
              "      <td>0</td>\n",
              "      <td>0</td>\n",
              "      <td>0</td>\n",
              "      <td>0</td>\n",
              "      <td>0</td>\n",
              "      <td>3</td>\n",
              "    </tr>\n",
              "    <tr>\n",
              "      <th>4</th>\n",
              "      <td>5</td>\n",
              "      <td>Copycat</td>\n",
              "      <td>01-Jan-1995</td>\n",
              "      <td>0</td>\n",
              "      <td>0</td>\n",
              "      <td>0</td>\n",
              "      <td>0</td>\n",
              "      <td>0</td>\n",
              "      <td>0</td>\n",
              "      <td>1</td>\n",
              "      <td>0</td>\n",
              "      <td>1</td>\n",
              "      <td>0</td>\n",
              "      <td>0</td>\n",
              "      <td>0</td>\n",
              "      <td>0</td>\n",
              "      <td>0</td>\n",
              "      <td>0</td>\n",
              "      <td>0</td>\n",
              "      <td>1</td>\n",
              "      <td>0</td>\n",
              "      <td>0</td>\n",
              "      <td>3</td>\n",
              "    </tr>\n",
              "    <tr>\n",
              "      <th>6</th>\n",
              "      <td>7</td>\n",
              "      <td>Twelve Monkeys</td>\n",
              "      <td>01-Jan-1995</td>\n",
              "      <td>0</td>\n",
              "      <td>0</td>\n",
              "      <td>0</td>\n",
              "      <td>0</td>\n",
              "      <td>0</td>\n",
              "      <td>0</td>\n",
              "      <td>0</td>\n",
              "      <td>0</td>\n",
              "      <td>1</td>\n",
              "      <td>0</td>\n",
              "      <td>0</td>\n",
              "      <td>0</td>\n",
              "      <td>0</td>\n",
              "      <td>0</td>\n",
              "      <td>0</td>\n",
              "      <td>1</td>\n",
              "      <td>0</td>\n",
              "      <td>0</td>\n",
              "      <td>0</td>\n",
              "      <td>2</td>\n",
              "    </tr>\n",
              "    <tr>\n",
              "      <th>...</th>\n",
              "      <td>...</td>\n",
              "      <td>...</td>\n",
              "      <td>...</td>\n",
              "      <td>...</td>\n",
              "      <td>...</td>\n",
              "      <td>...</td>\n",
              "      <td>...</td>\n",
              "      <td>...</td>\n",
              "      <td>...</td>\n",
              "      <td>...</td>\n",
              "      <td>...</td>\n",
              "      <td>...</td>\n",
              "      <td>...</td>\n",
              "      <td>...</td>\n",
              "      <td>...</td>\n",
              "      <td>...</td>\n",
              "      <td>...</td>\n",
              "      <td>...</td>\n",
              "      <td>...</td>\n",
              "      <td>...</td>\n",
              "      <td>...</td>\n",
              "      <td>...</td>\n",
              "      <td>...</td>\n",
              "    </tr>\n",
              "    <tr>\n",
              "      <th>1667</th>\n",
              "      <td>1669</td>\n",
              "      <td>MURDER and murder</td>\n",
              "      <td>20-Jun-1997</td>\n",
              "      <td>0</td>\n",
              "      <td>0</td>\n",
              "      <td>0</td>\n",
              "      <td>0</td>\n",
              "      <td>0</td>\n",
              "      <td>0</td>\n",
              "      <td>1</td>\n",
              "      <td>0</td>\n",
              "      <td>1</td>\n",
              "      <td>0</td>\n",
              "      <td>0</td>\n",
              "      <td>0</td>\n",
              "      <td>0</td>\n",
              "      <td>1</td>\n",
              "      <td>0</td>\n",
              "      <td>0</td>\n",
              "      <td>0</td>\n",
              "      <td>0</td>\n",
              "      <td>0</td>\n",
              "      <td>3</td>\n",
              "    </tr>\n",
              "    <tr>\n",
              "      <th>1668</th>\n",
              "      <td>1670</td>\n",
              "      <td>Tainted</td>\n",
              "      <td>01-Feb-1998</td>\n",
              "      <td>0</td>\n",
              "      <td>0</td>\n",
              "      <td>0</td>\n",
              "      <td>0</td>\n",
              "      <td>0</td>\n",
              "      <td>1</td>\n",
              "      <td>0</td>\n",
              "      <td>0</td>\n",
              "      <td>0</td>\n",
              "      <td>0</td>\n",
              "      <td>0</td>\n",
              "      <td>0</td>\n",
              "      <td>0</td>\n",
              "      <td>0</td>\n",
              "      <td>0</td>\n",
              "      <td>0</td>\n",
              "      <td>1</td>\n",
              "      <td>0</td>\n",
              "      <td>0</td>\n",
              "      <td>2</td>\n",
              "    </tr>\n",
              "    <tr>\n",
              "      <th>1671</th>\n",
              "      <td>1673</td>\n",
              "      <td>Mirage</td>\n",
              "      <td>01-Jan-1995</td>\n",
              "      <td>0</td>\n",
              "      <td>1</td>\n",
              "      <td>0</td>\n",
              "      <td>0</td>\n",
              "      <td>0</td>\n",
              "      <td>0</td>\n",
              "      <td>0</td>\n",
              "      <td>0</td>\n",
              "      <td>0</td>\n",
              "      <td>0</td>\n",
              "      <td>0</td>\n",
              "      <td>0</td>\n",
              "      <td>0</td>\n",
              "      <td>0</td>\n",
              "      <td>0</td>\n",
              "      <td>0</td>\n",
              "      <td>1</td>\n",
              "      <td>0</td>\n",
              "      <td>0</td>\n",
              "      <td>2</td>\n",
              "    </tr>\n",
              "    <tr>\n",
              "      <th>1677</th>\n",
              "      <td>1679</td>\n",
              "      <td>B. Monkey</td>\n",
              "      <td>06-Feb-1998</td>\n",
              "      <td>0</td>\n",
              "      <td>0</td>\n",
              "      <td>0</td>\n",
              "      <td>0</td>\n",
              "      <td>0</td>\n",
              "      <td>0</td>\n",
              "      <td>0</td>\n",
              "      <td>0</td>\n",
              "      <td>0</td>\n",
              "      <td>0</td>\n",
              "      <td>0</td>\n",
              "      <td>0</td>\n",
              "      <td>0</td>\n",
              "      <td>0</td>\n",
              "      <td>1</td>\n",
              "      <td>0</td>\n",
              "      <td>1</td>\n",
              "      <td>0</td>\n",
              "      <td>0</td>\n",
              "      <td>2</td>\n",
              "    </tr>\n",
              "    <tr>\n",
              "      <th>1678</th>\n",
              "      <td>1680</td>\n",
              "      <td>Sliding Doors</td>\n",
              "      <td>01-Jan-1998</td>\n",
              "      <td>0</td>\n",
              "      <td>0</td>\n",
              "      <td>0</td>\n",
              "      <td>0</td>\n",
              "      <td>0</td>\n",
              "      <td>0</td>\n",
              "      <td>0</td>\n",
              "      <td>0</td>\n",
              "      <td>1</td>\n",
              "      <td>0</td>\n",
              "      <td>0</td>\n",
              "      <td>0</td>\n",
              "      <td>0</td>\n",
              "      <td>0</td>\n",
              "      <td>1</td>\n",
              "      <td>0</td>\n",
              "      <td>0</td>\n",
              "      <td>0</td>\n",
              "      <td>0</td>\n",
              "      <td>2</td>\n",
              "    </tr>\n",
              "  </tbody>\n",
              "</table>\n",
              "<p>849 rows × 23 columns</p>\n",
              "</div>"
            ],
            "text/plain": [
              "      movie id         movie title release date  ...  War  Western  num_of_genre\n",
              "0            1          Toy Story   01-Jan-1995  ...    0        0             3\n",
              "1            2          GoldenEye   01-Jan-1995  ...    0        0             3\n",
              "3            4         Get Shorty   01-Jan-1995  ...    0        0             3\n",
              "4            5            Copycat   01-Jan-1995  ...    0        0             3\n",
              "6            7     Twelve Monkeys   01-Jan-1995  ...    0        0             2\n",
              "...        ...                 ...          ...  ...  ...      ...           ...\n",
              "1667      1669  MURDER and murder   20-Jun-1997  ...    0        0             3\n",
              "1668      1670            Tainted   01-Feb-1998  ...    0        0             2\n",
              "1671      1673             Mirage   01-Jan-1995  ...    0        0             2\n",
              "1677      1679          B. Monkey   06-Feb-1998  ...    0        0             2\n",
              "1678      1680      Sliding Doors   01-Jan-1998  ...    0        0             2\n",
              "\n",
              "[849 rows x 23 columns]"
            ]
          },
          "metadata": {
            "tags": []
          },
          "execution_count": 13
        }
      ]
    },
    {
      "cell_type": "code",
      "metadata": {
        "id": "WzqhEz3wvgkl"
      },
      "source": [
        "#movie.drop(['sum_genre'], axis=1)  # to get the original frame back if ones wants, I left it there"
      ],
      "execution_count": null,
      "outputs": []
    },
    {
      "cell_type": "markdown",
      "metadata": {
        "id": "0VGq1h3lvgkl"
      },
      "source": [
        "#### 6. Drop the movie where the genre is unknown "
      ]
    },
    {
      "cell_type": "code",
      "metadata": {
        "id": "qJK3-B4gvgkl"
      },
      "source": [
        "movie = movie[movie['unknown'] !=1]\n"
      ],
      "execution_count": 14,
      "outputs": []
    },
    {
      "cell_type": "markdown",
      "metadata": {
        "id": "H5i-YfSdvgkm"
      },
      "source": [
        "### 7. Univariate plots of columns: 'rating', 'Age', 'release year', 'Gender' and 'Occupation' "
      ]
    },
    {
      "cell_type": "code",
      "metadata": {
        "id": "2oknLWw9vgkm"
      },
      "source": [
        "# Using distplot for age and countplot for gender,ratings,occupation. Use lineplot or countplot for release year.\n",
        "# To get to release year from release date using str.split()\n",
        "# convert it to pandas datetime format and extract year  by (.dt.year) or slicing the string"
      ],
      "execution_count": null,
      "outputs": []
    },
    {
      "cell_type": "code",
      "metadata": {
        "colab": {
          "base_uri": "https://localhost:8080/",
          "height": 297
        },
        "id": "bSLNxShXvgkn",
        "outputId": "6883a331-abe3-4838-af42-52ec8fcd6864"
      },
      "source": [
        "# distplot for age\n",
        "x =pd.Series(user['age'], name=\"Age of the user\")\n",
        "sns.histplot(x)    # Most movie were seen by ages 20-50 years"
      ],
      "execution_count": 17,
      "outputs": [
        {
          "output_type": "execute_result",
          "data": {
            "text/plain": [
              "<matplotlib.axes._subplots.AxesSubplot at 0x7fe180559860>"
            ]
          },
          "metadata": {
            "tags": []
          },
          "execution_count": 17
        },
        {
          "output_type": "display_data",
          "data": {
            "image/png": "[encoded data removed]",
            "text/plain": [
              "<Figure size 432x288 with 1 Axes>"
            ]
          },
          "metadata": {
            "tags": [],
            "needs_background": "light"
          }
        }
      ]
    },
    {
      "cell_type": "code",
      "metadata": {
        "colab": {
          "base_uri": "https://localhost:8080/",
          "height": 300
        },
        "id": "o_BZDj3Vvgkn",
        "outputId": "6a293c17-e799-41f8-ae0d-941cc3c5d00a"
      },
      "source": [
        "#countplot for gender\n",
        "sns.countplot(x=user['gender'])    # >50% more males watch movie than females"
      ],
      "execution_count": 18,
      "outputs": [
        {
          "output_type": "execute_result",
          "data": {
            "text/plain": [
              "<matplotlib.axes._subplots.AxesSubplot at 0x7fe180559a20>"
            ]
          },
          "metadata": {
            "tags": []
          },
          "execution_count": 18
        },
        {
          "output_type": "display_data",
          "data": {
            "image/png": "[encoded data removed]",
            "text/plain": [
              "<Figure size 432x288 with 1 Axes>"
            ]
          },
          "metadata": {
            "tags": [],
            "needs_background": "light"
          }
        }
      ]
    },
    {
      "cell_type": "code",
      "metadata": {
        "colab": {
          "base_uri": "https://localhost:8080/",
          "height": 297
        },
        "id": "X0Cj8Zojvgkn",
        "outputId": "e611c109-7bd7-415b-9fd6-c17c4f38189f"
      },
      "source": [
        "#countplot for ratings\n",
        "sns.countplot(x=rating['rating'])  #Most ratings fall between 3-4"
      ],
      "execution_count": 19,
      "outputs": [
        {
          "output_type": "execute_result",
          "data": {
            "text/plain": [
              "<matplotlib.axes._subplots.AxesSubplot at 0x7fe17f796630>"
            ]
          },
          "metadata": {
            "tags": []
          },
          "execution_count": 19
        },
        {
          "output_type": "display_data",
          "data": {
            "image/png": "[encoded data removed]",
            "text/plain": [
              "<Figure size 432x288 with 1 Axes>"
            ]
          },
          "metadata": {
            "tags": [],
            "needs_background": "light"
          }
        }
      ]
    },
    {
      "cell_type": "code",
      "metadata": {
        "colab": {
          "base_uri": "https://localhost:8080/",
          "height": 497
        },
        "id": "SgEad2_Ivgko",
        "outputId": "e416439a-4304-40d5-de49-486719f781dc"
      },
      "source": [
        "#countplot for occupation\n",
        "plt.figure(figsize=(4,8)) # this creates a figure 8 inch wide, 4 inch high\n",
        "sns.countplot(y=\"occupation\", data=user)\n",
        "plt.show()\n",
        "# Students have watched and rated most movies"
      ],
      "execution_count": 20,
      "outputs": [
        {
          "output_type": "display_data",
          "data": {
            "image/png": "[encoded data removed]",
            "text/plain": [
              "<Figure size 288x576 with 1 Axes>"
            ]
          },
          "metadata": {
            "tags": [],
            "needs_background": "light"
          }
        }
      ]
    },
    {
      "cell_type": "code",
      "metadata": {
        "colab": {
          "base_uri": "https://localhost:8080/"
        },
        "id": "YLT1IAnPvgko",
        "outputId": "616c50aa-ba70-4026-ab28-7615ad26cfe1"
      },
      "source": [
        "#Getting release year from release date by using lambda function and slicing the string\n",
        "movie['release year'] = movie.apply(lambda x:x['release date'][-4:], axis=1)\n",
        "\n",
        "#Print and show an example output for last 5 rows\n",
        "print(movie['release year'][-5:-1])"
      ],
      "execution_count": 16,
      "outputs": [
        {
          "output_type": "stream",
          "text": [
            "1676    1998\n",
            "1677    1998\n",
            "1678    1998\n",
            "1679    1994\n",
            "Name: release year, dtype: object\n"
          ],
          "name": "stdout"
        }
      ]
    },
    {
      "cell_type": "code",
      "metadata": {
        "colab": {
          "base_uri": "https://localhost:8080/",
          "height": 639
        },
        "id": "L0jhLKjbvgko",
        "outputId": "579b0a5c-6e51-40eb-e106-ad7651531fa8"
      },
      "source": [
        "# countplot for release year *shows the number of movies released per year after 1993 is >50*\n",
        "plt.figure(figsize=(20,10))\n",
        "plt.xticks(rotation=-90)\n",
        "sns.countplot(x=movie['release year'].sort_values(ascending=False))"
      ],
      "execution_count": 24,
      "outputs": [
        {
          "output_type": "execute_result",
          "data": {
            "text/plain": [
              "<matplotlib.axes._subplots.AxesSubplot at 0x7fe17f5990b8>"
            ]
          },
          "metadata": {
            "tags": []
          },
          "execution_count": 24
        },
        {
          "output_type": "display_data",
          "data": {
            "image/png": "[encoded data removed]",
            "text/plain": [
              "<Figure size 1440x720 with 1 Axes>"
            ]
          },
          "metadata": {
            "tags": [],
            "needs_background": "light"
          }
        }
      ]
    },
    {
      "cell_type": "markdown",
      "metadata": {
        "id": "Cj1D-Q5_vgkp"
      },
      "source": [
        "### 8. Visualizing how the popularity of genres has changed over the years \n",
        "\n",
        "Using the number of releases in a year as a parameter of popularity of a genre"
      ]
    },
    {
      "cell_type": "markdown",
      "metadata": {
        "id": "ImB3fnsBvgkp"
      },
      "source": [
        "1: Creating a data frame where the release year is the index and the genre is the column names (one cell shows the number of release in a year in one genre).\n",
        "\n",
        "2: Using groupby on the relevant column and use sum() on the same to find out the number of releases in a year/genre.  "
      ]
    },
    {
      "cell_type": "code",
      "metadata": {
        "colab": {
          "base_uri": "https://localhost:8080/",
          "height": 265
        },
        "id": "Ee21n9xtvgkp",
        "outputId": "fd12d0a9-0f47-4457-9934-be6fe0bdf108"
      },
      "source": [
        "# creating a dataframe with release year(rows) and genre(colums) and values are counts of movies in that year \n",
        "\n",
        "genre_by_yr = movie.groupby(by=['release year'])['Action',\n",
        "       'Adventure', 'Animation', 'Childrens', 'Comedy', 'Crime', 'Documentary',\n",
        "       'Drama', 'Fantasy', 'Film-Noir', 'Horror', 'Musical', 'Mystery',\n",
        "       'Romance', 'Sci-Fi', 'Thriller', 'War', 'Western'].sum()\n",
        "\n",
        "genre_by_yr.head()"
      ],
      "execution_count": 26,
      "outputs": [
        {
          "output_type": "stream",
          "text": [
            "/usr/local/lib/python3.6/dist-packages/ipykernel_launcher.py:6: FutureWarning: Indexing with multiple keys (implicitly converted to a tuple of keys) will be deprecated, use a list instead.\n",
            "  \n"
          ],
          "name": "stderr"
        },
        {
          "output_type": "execute_result",
          "data": {
            "text/html": [
              "<div>\n",
              "<style scoped>\n",
              "    .dataframe tbody tr th:only-of-type {\n",
              "        vertical-align: middle;\n",
              "    }\n",
              "\n",
              "    .dataframe tbody tr th {\n",
              "        vertical-align: top;\n",
              "    }\n",
              "\n",
              "    .dataframe thead th {\n",
              "        text-align: right;\n",
              "    }\n",
              "</style>\n",
              "<table border=\"1\" class=\"dataframe\">\n",
              "  <thead>\n",
              "    <tr style=\"text-align: right;\">\n",
              "      <th></th>\n",
              "      <th>Action</th>\n",
              "      <th>Adventure</th>\n",
              "      <th>Animation</th>\n",
              "      <th>Childrens</th>\n",
              "      <th>Comedy</th>\n",
              "      <th>Crime</th>\n",
              "      <th>Documentary</th>\n",
              "      <th>Drama</th>\n",
              "      <th>Fantasy</th>\n",
              "      <th>Film-Noir</th>\n",
              "      <th>Horror</th>\n",
              "      <th>Musical</th>\n",
              "      <th>Mystery</th>\n",
              "      <th>Romance</th>\n",
              "      <th>Sci-Fi</th>\n",
              "      <th>Thriller</th>\n",
              "      <th>War</th>\n",
              "      <th>Western</th>\n",
              "    </tr>\n",
              "    <tr>\n",
              "      <th>release year</th>\n",
              "      <th></th>\n",
              "      <th></th>\n",
              "      <th></th>\n",
              "      <th></th>\n",
              "      <th></th>\n",
              "      <th></th>\n",
              "      <th></th>\n",
              "      <th></th>\n",
              "      <th></th>\n",
              "      <th></th>\n",
              "      <th></th>\n",
              "      <th></th>\n",
              "      <th></th>\n",
              "      <th></th>\n",
              "      <th></th>\n",
              "      <th></th>\n",
              "      <th></th>\n",
              "      <th></th>\n",
              "    </tr>\n",
              "  </thead>\n",
              "  <tbody>\n",
              "    <tr>\n",
              "      <th>1922</th>\n",
              "      <td>0</td>\n",
              "      <td>0</td>\n",
              "      <td>0</td>\n",
              "      <td>0</td>\n",
              "      <td>0</td>\n",
              "      <td>0</td>\n",
              "      <td>0</td>\n",
              "      <td>0</td>\n",
              "      <td>0</td>\n",
              "      <td>0</td>\n",
              "      <td>1</td>\n",
              "      <td>0</td>\n",
              "      <td>0</td>\n",
              "      <td>0</td>\n",
              "      <td>0</td>\n",
              "      <td>0</td>\n",
              "      <td>0</td>\n",
              "      <td>0</td>\n",
              "    </tr>\n",
              "    <tr>\n",
              "      <th>1926</th>\n",
              "      <td>0</td>\n",
              "      <td>0</td>\n",
              "      <td>0</td>\n",
              "      <td>0</td>\n",
              "      <td>0</td>\n",
              "      <td>0</td>\n",
              "      <td>0</td>\n",
              "      <td>1</td>\n",
              "      <td>0</td>\n",
              "      <td>0</td>\n",
              "      <td>0</td>\n",
              "      <td>0</td>\n",
              "      <td>0</td>\n",
              "      <td>0</td>\n",
              "      <td>0</td>\n",
              "      <td>0</td>\n",
              "      <td>0</td>\n",
              "      <td>0</td>\n",
              "    </tr>\n",
              "    <tr>\n",
              "      <th>1930</th>\n",
              "      <td>0</td>\n",
              "      <td>0</td>\n",
              "      <td>0</td>\n",
              "      <td>0</td>\n",
              "      <td>0</td>\n",
              "      <td>0</td>\n",
              "      <td>0</td>\n",
              "      <td>1</td>\n",
              "      <td>0</td>\n",
              "      <td>0</td>\n",
              "      <td>0</td>\n",
              "      <td>0</td>\n",
              "      <td>0</td>\n",
              "      <td>0</td>\n",
              "      <td>0</td>\n",
              "      <td>0</td>\n",
              "      <td>0</td>\n",
              "      <td>0</td>\n",
              "    </tr>\n",
              "    <tr>\n",
              "      <th>1931</th>\n",
              "      <td>0</td>\n",
              "      <td>0</td>\n",
              "      <td>0</td>\n",
              "      <td>0</td>\n",
              "      <td>0</td>\n",
              "      <td>1</td>\n",
              "      <td>0</td>\n",
              "      <td>0</td>\n",
              "      <td>0</td>\n",
              "      <td>1</td>\n",
              "      <td>0</td>\n",
              "      <td>0</td>\n",
              "      <td>0</td>\n",
              "      <td>0</td>\n",
              "      <td>0</td>\n",
              "      <td>1</td>\n",
              "      <td>0</td>\n",
              "      <td>0</td>\n",
              "    </tr>\n",
              "    <tr>\n",
              "      <th>1932</th>\n",
              "      <td>0</td>\n",
              "      <td>0</td>\n",
              "      <td>0</td>\n",
              "      <td>0</td>\n",
              "      <td>0</td>\n",
              "      <td>0</td>\n",
              "      <td>0</td>\n",
              "      <td>0</td>\n",
              "      <td>0</td>\n",
              "      <td>0</td>\n",
              "      <td>0</td>\n",
              "      <td>0</td>\n",
              "      <td>0</td>\n",
              "      <td>1</td>\n",
              "      <td>0</td>\n",
              "      <td>0</td>\n",
              "      <td>1</td>\n",
              "      <td>0</td>\n",
              "    </tr>\n",
              "  </tbody>\n",
              "</table>\n",
              "</div>"
            ],
            "text/plain": [
              "              Action  Adventure  Animation  ...  Thriller  War  Western\n",
              "release year                                ...                        \n",
              "1922               0          0          0  ...         0    0        0\n",
              "1926               0          0          0  ...         0    0        0\n",
              "1930               0          0          0  ...         0    0        0\n",
              "1931               0          0          0  ...         1    0        0\n",
              "1932               0          0          0  ...         0    1        0\n",
              "\n",
              "[5 rows x 18 columns]"
            ]
          },
          "metadata": {
            "tags": []
          },
          "execution_count": 26
        }
      ]
    },
    {
      "cell_type": "code",
      "metadata": {
        "colab": {
          "base_uri": "https://localhost:8080/",
          "height": 921
        },
        "id": "OILeQ_BQ6qg_",
        "outputId": "7e7c137e-7f9b-4c52-d7b0-628863f647ba"
      },
      "source": [
        "plt.figure(figsize=(20,15))\r\n",
        "sns.heatmap(genre_by_yr, cmap=\"YlGnBu\", linewidths=.05)  # heatmap\r\n",
        "plt.show()"
      ],
      "execution_count": 27,
      "outputs": [
        {
          "output_type": "display_data",
          "data": {
            "image/png": "[encoded data removed]",
            "text/plain": [
              "<Figure size 1440x1080 with 2 Axes>"
            ]
          },
          "metadata": {
            "tags": [],
            "needs_background": "light"
          }
        }
      ]
    },
    {
      "cell_type": "code",
      "metadata": {
        "id": "S0oanHru7r8k"
      },
      "source": [
        "genre_by_yr['Total'] = genre_by_yr.sum(axis=1).values\r\n",
        "# Calculating total of each year and forming a new column for it\r\n",
        "\r\n",
        "genre_by_yr = round(genre_by_yr.div(genre_by_yr['Total'], axis= 0) * 100,2).drop('Total',axis=1).T"
      ],
      "execution_count": 28,
      "outputs": []
    },
    {
      "cell_type": "code",
      "metadata": {
        "colab": {
          "base_uri": "https://localhost:8080/",
          "height": 897
        },
        "id": "cT3QkXvl8h3I",
        "outputId": "e4fc90dd-e671-4c21-b5b9-d8d049da76ef"
      },
      "source": [
        "# Diving each row by its total to calculate percentages\r\n",
        "# round is used to round off decimal numbers upto 2 places\r\n",
        "# 'Total' column has been dropped\r\n",
        "# .T is used to change rows into columns and columns into rows\r\n",
        "plt.figure(figsize=(20,15))\r\n",
        "sns.heatmap(genre_by_yr, cmap=\"Accent\", linewidths=.05)  # heatmap\r\n",
        "plt.show()"
      ],
      "execution_count": 29,
      "outputs": [
        {
          "output_type": "display_data",
          "data": {
            "image/png": "[encoded data removed]",
            "text/plain": [
              "<Figure size 1440x1080 with 2 Axes>"
            ]
          },
          "metadata": {
            "tags": [],
            "needs_background": "light"
          }
        }
      ]
    },
    {
      "cell_type": "markdown",
      "metadata": {
        "id": "SB-fc0Iwvgkq"
      },
      "source": [
        "### 9. Finding the top 25 movies according to average ratings such that each movie has no. of ratings more than 100 \n",
        "\n",
        "Method : \n",
        "1. Find the movies that have more than 100 ratings(using groupby and count). Extract the movie id in a list.\n",
        "2. Find the average rating of all the movies and sort them in the descending order. \n",
        "3. Using isin(list obtained from 1) to filter out the movies which have more than 100 ratings.\n",
        "4. Will use the .merge() function to get the movie titles.\n",
        "\n",
        "Note: You can find more on groupby on https://realpython.com/pandas-groupby/."
      ]
    },
    {
      "cell_type": "code",
      "metadata": {
        "colab": {
          "base_uri": "https://localhost:8080/",
          "height": 798
        },
        "id": "D5LmT1Rtvgkr",
        "outputId": "bdc78d38-b44d-4efc-f89c-65771bccc0d7"
      },
      "source": [
        "# List of movie ids having count of ratings more than 100 \n",
        "movie_count = rating.groupby('movie id')['rating'].count()\n",
        "movie_count = movie_count[movie_count>100]\n",
        "\n",
        "# Finding average ratings for each movie and sorting them out in descending order\n",
        "movie_ratings = rating.groupby('movie id')['rating'].mean().sort_values(ascending=False)\n",
        "\n",
        "# Slicing average rating based movie ids having count of ratings more than 100\n",
        "## Displaying top 25 rows only\n",
        "movie_ratings[movie_ratings.index.isin(movie_count.index)].reset_index().head(25).merge(movie[['movie id', 'movie title']],on='movie id',how='left')"
      ],
      "execution_count": 33,
      "outputs": [
        {
          "output_type": "execute_result",
          "data": {
            "text/html": [
              "<div>\n",
              "<style scoped>\n",
              "    .dataframe tbody tr th:only-of-type {\n",
              "        vertical-align: middle;\n",
              "    }\n",
              "\n",
              "    .dataframe tbody tr th {\n",
              "        vertical-align: top;\n",
              "    }\n",
              "\n",
              "    .dataframe thead th {\n",
              "        text-align: right;\n",
              "    }\n",
              "</style>\n",
              "<table border=\"1\" class=\"dataframe\">\n",
              "  <thead>\n",
              "    <tr style=\"text-align: right;\">\n",
              "      <th></th>\n",
              "      <th>movie id</th>\n",
              "      <th>rating</th>\n",
              "      <th>movie title</th>\n",
              "    </tr>\n",
              "  </thead>\n",
              "  <tbody>\n",
              "    <tr>\n",
              "      <th>0</th>\n",
              "      <td>408</td>\n",
              "      <td>4.49</td>\n",
              "      <td>Close Shave, A</td>\n",
              "    </tr>\n",
              "    <tr>\n",
              "      <th>1</th>\n",
              "      <td>318</td>\n",
              "      <td>4.47</td>\n",
              "      <td>Schindler's List</td>\n",
              "    </tr>\n",
              "    <tr>\n",
              "      <th>2</th>\n",
              "      <td>169</td>\n",
              "      <td>4.47</td>\n",
              "      <td>Wrong Trousers, The</td>\n",
              "    </tr>\n",
              "    <tr>\n",
              "      <th>3</th>\n",
              "      <td>483</td>\n",
              "      <td>4.46</td>\n",
              "      <td>Casablanca</td>\n",
              "    </tr>\n",
              "    <tr>\n",
              "      <th>4</th>\n",
              "      <td>64</td>\n",
              "      <td>4.45</td>\n",
              "      <td>Shawshank Redemption, The</td>\n",
              "    </tr>\n",
              "    <tr>\n",
              "      <th>5</th>\n",
              "      <td>603</td>\n",
              "      <td>4.39</td>\n",
              "      <td>Rear Window</td>\n",
              "    </tr>\n",
              "    <tr>\n",
              "      <th>6</th>\n",
              "      <td>12</td>\n",
              "      <td>4.39</td>\n",
              "      <td>Usual Suspects, The</td>\n",
              "    </tr>\n",
              "    <tr>\n",
              "      <th>7</th>\n",
              "      <td>50</td>\n",
              "      <td>4.36</td>\n",
              "      <td>Star Wars</td>\n",
              "    </tr>\n",
              "    <tr>\n",
              "      <th>8</th>\n",
              "      <td>178</td>\n",
              "      <td>4.34</td>\n",
              "      <td>12 Angry Men</td>\n",
              "    </tr>\n",
              "    <tr>\n",
              "      <th>9</th>\n",
              "      <td>134</td>\n",
              "      <td>4.29</td>\n",
              "      <td>Citizen Kane</td>\n",
              "    </tr>\n",
              "    <tr>\n",
              "      <th>10</th>\n",
              "      <td>427</td>\n",
              "      <td>4.29</td>\n",
              "      <td>To Kill a Mockingbird</td>\n",
              "    </tr>\n",
              "    <tr>\n",
              "      <th>11</th>\n",
              "      <td>357</td>\n",
              "      <td>4.29</td>\n",
              "      <td>One Flew Over the Cuckoo's Nest</td>\n",
              "    </tr>\n",
              "    <tr>\n",
              "      <th>12</th>\n",
              "      <td>98</td>\n",
              "      <td>4.29</td>\n",
              "      <td>Silence of the Lambs, The</td>\n",
              "    </tr>\n",
              "    <tr>\n",
              "      <th>13</th>\n",
              "      <td>480</td>\n",
              "      <td>4.28</td>\n",
              "      <td>North by Northwest</td>\n",
              "    </tr>\n",
              "    <tr>\n",
              "      <th>14</th>\n",
              "      <td>127</td>\n",
              "      <td>4.28</td>\n",
              "      <td>Godfather, The</td>\n",
              "    </tr>\n",
              "    <tr>\n",
              "      <th>15</th>\n",
              "      <td>285</td>\n",
              "      <td>4.27</td>\n",
              "      <td>Secrets &amp; Lies</td>\n",
              "    </tr>\n",
              "    <tr>\n",
              "      <th>16</th>\n",
              "      <td>272</td>\n",
              "      <td>4.26</td>\n",
              "      <td>Good Will Hunting</td>\n",
              "    </tr>\n",
              "    <tr>\n",
              "      <th>17</th>\n",
              "      <td>657</td>\n",
              "      <td>4.26</td>\n",
              "      <td>Manchurian Candidate, The</td>\n",
              "    </tr>\n",
              "    <tr>\n",
              "      <th>18</th>\n",
              "      <td>474</td>\n",
              "      <td>4.25</td>\n",
              "      <td>Dr. Strangelove or: How I Learned to Stop Worr...</td>\n",
              "    </tr>\n",
              "    <tr>\n",
              "      <th>19</th>\n",
              "      <td>174</td>\n",
              "      <td>4.25</td>\n",
              "      <td>Raiders of the Lost Ark</td>\n",
              "    </tr>\n",
              "    <tr>\n",
              "      <th>20</th>\n",
              "      <td>479</td>\n",
              "      <td>4.25</td>\n",
              "      <td>Vertigo</td>\n",
              "    </tr>\n",
              "    <tr>\n",
              "      <th>21</th>\n",
              "      <td>313</td>\n",
              "      <td>4.25</td>\n",
              "      <td>Titanic</td>\n",
              "    </tr>\n",
              "    <tr>\n",
              "      <th>22</th>\n",
              "      <td>511</td>\n",
              "      <td>4.23</td>\n",
              "      <td>Lawrence of Arabia</td>\n",
              "    </tr>\n",
              "    <tr>\n",
              "      <th>23</th>\n",
              "      <td>484</td>\n",
              "      <td>4.21</td>\n",
              "      <td>Maltese Falcon, The</td>\n",
              "    </tr>\n",
              "    <tr>\n",
              "      <th>24</th>\n",
              "      <td>172</td>\n",
              "      <td>4.20</td>\n",
              "      <td>Empire Strikes Back, The</td>\n",
              "    </tr>\n",
              "  </tbody>\n",
              "</table>\n",
              "</div>"
            ],
            "text/plain": [
              "    movie id  rating                                        movie title\n",
              "0        408    4.49                                    Close Shave, A \n",
              "1        318    4.47                                  Schindler's List \n",
              "2        169    4.47                               Wrong Trousers, The \n",
              "3        483    4.46                                        Casablanca \n",
              "4         64    4.45                         Shawshank Redemption, The \n",
              "5        603    4.39                                       Rear Window \n",
              "6         12    4.39                               Usual Suspects, The \n",
              "7         50    4.36                                         Star Wars \n",
              "8        178    4.34                                      12 Angry Men \n",
              "9        134    4.29                                      Citizen Kane \n",
              "10       427    4.29                             To Kill a Mockingbird \n",
              "11       357    4.29                   One Flew Over the Cuckoo's Nest \n",
              "12        98    4.29                         Silence of the Lambs, The \n",
              "13       480    4.28                                North by Northwest \n",
              "14       127    4.28                                    Godfather, The \n",
              "15       285    4.27                                    Secrets & Lies \n",
              "16       272    4.26                                 Good Will Hunting \n",
              "17       657    4.26                         Manchurian Candidate, The \n",
              "18       474    4.25  Dr. Strangelove or: How I Learned to Stop Worr...\n",
              "19       174    4.25                           Raiders of the Lost Ark \n",
              "20       479    4.25                                           Vertigo \n",
              "21       313    4.25                                           Titanic \n",
              "22       511    4.23                                Lawrence of Arabia \n",
              "23       484    4.21                               Maltese Falcon, The \n",
              "24       172    4.20                          Empire Strikes Back, The "
            ]
          },
          "metadata": {
            "tags": []
          },
          "execution_count": 33
        }
      ]
    },
    {
      "cell_type": "markdown",
      "metadata": {
        "id": "OcES8UxJvgku"
      },
      "source": [
        "### 10. See gender distribution across different genres \n",
        "\n",
        "* Do men watch more drama than women\n",
        "* Do women watch more Sci-Fi than men\n",
        "* Do men watch more romance movies than women\n",
        "\n",
        "**comparing the percentages**"
      ]
    },
    {
      "cell_type": "markdown",
      "metadata": {
        "id": "JaTLKatOvgkv"
      },
      "source": [
        "\n",
        "\n",
        "1. Using the .sum(), .div() function here.\n",
        "2. Using number of ratings to validate the numbers. For example, if out of 4000 ratings received by women, 3000 are for drama, we will assume that 75% of the women watch drama."
      ]
    },
    {
      "cell_type": "code",
      "metadata": {
        "colab": {
          "base_uri": "https://localhost:8080/",
          "height": 322
        },
        "id": "4KzdUHdkNUub",
        "outputId": "5b4fafa2-ea83-4fb3-a417-e1ebd4705730"
      },
      "source": [
        "# merging on all datasets to get one dataframe\r\n",
        "udf  = user.merge(rating,on='user id',how='inner')\r\n",
        "df = movie.merge(udf,on='movie id',how='inner')\r\n",
        "df.head()"
      ],
      "execution_count": 191,
      "outputs": [
        {
          "output_type": "execute_result",
          "data": {
            "text/html": [
              "<div>\n",
              "<style scoped>\n",
              "    .dataframe tbody tr th:only-of-type {\n",
              "        vertical-align: middle;\n",
              "    }\n",
              "\n",
              "    .dataframe tbody tr th {\n",
              "        vertical-align: top;\n",
              "    }\n",
              "\n",
              "    .dataframe thead th {\n",
              "        text-align: right;\n",
              "    }\n",
              "</style>\n",
              "<table border=\"1\" class=\"dataframe\">\n",
              "  <thead>\n",
              "    <tr style=\"text-align: right;\">\n",
              "      <th></th>\n",
              "      <th>movie id</th>\n",
              "      <th>movie title</th>\n",
              "      <th>release date</th>\n",
              "      <th>unknown</th>\n",
              "      <th>Action</th>\n",
              "      <th>Adventure</th>\n",
              "      <th>Animation</th>\n",
              "      <th>Childrens</th>\n",
              "      <th>Comedy</th>\n",
              "      <th>Crime</th>\n",
              "      <th>Documentary</th>\n",
              "      <th>Drama</th>\n",
              "      <th>Fantasy</th>\n",
              "      <th>Film-Noir</th>\n",
              "      <th>Horror</th>\n",
              "      <th>Musical</th>\n",
              "      <th>Mystery</th>\n",
              "      <th>Romance</th>\n",
              "      <th>Sci-Fi</th>\n",
              "      <th>Thriller</th>\n",
              "      <th>War</th>\n",
              "      <th>Western</th>\n",
              "      <th>num_of_genre</th>\n",
              "      <th>release year</th>\n",
              "      <th>user id</th>\n",
              "      <th>age</th>\n",
              "      <th>gender</th>\n",
              "      <th>occupation</th>\n",
              "      <th>zip code</th>\n",
              "      <th>rating</th>\n",
              "      <th>timestamp</th>\n",
              "    </tr>\n",
              "  </thead>\n",
              "  <tbody>\n",
              "    <tr>\n",
              "      <th>0</th>\n",
              "      <td>1</td>\n",
              "      <td>Toy Story</td>\n",
              "      <td>01-Jan-1995</td>\n",
              "      <td>0</td>\n",
              "      <td>0</td>\n",
              "      <td>0</td>\n",
              "      <td>1</td>\n",
              "      <td>1</td>\n",
              "      <td>1</td>\n",
              "      <td>0</td>\n",
              "      <td>0</td>\n",
              "      <td>0</td>\n",
              "      <td>0</td>\n",
              "      <td>0</td>\n",
              "      <td>0</td>\n",
              "      <td>0</td>\n",
              "      <td>0</td>\n",
              "      <td>0</td>\n",
              "      <td>0</td>\n",
              "      <td>0</td>\n",
              "      <td>0</td>\n",
              "      <td>0</td>\n",
              "      <td>3</td>\n",
              "      <td>1995</td>\n",
              "      <td>1</td>\n",
              "      <td>24</td>\n",
              "      <td>M</td>\n",
              "      <td>technician</td>\n",
              "      <td>85711</td>\n",
              "      <td>5</td>\n",
              "      <td>874965758</td>\n",
              "    </tr>\n",
              "    <tr>\n",
              "      <th>1</th>\n",
              "      <td>1</td>\n",
              "      <td>Toy Story</td>\n",
              "      <td>01-Jan-1995</td>\n",
              "      <td>0</td>\n",
              "      <td>0</td>\n",
              "      <td>0</td>\n",
              "      <td>1</td>\n",
              "      <td>1</td>\n",
              "      <td>1</td>\n",
              "      <td>0</td>\n",
              "      <td>0</td>\n",
              "      <td>0</td>\n",
              "      <td>0</td>\n",
              "      <td>0</td>\n",
              "      <td>0</td>\n",
              "      <td>0</td>\n",
              "      <td>0</td>\n",
              "      <td>0</td>\n",
              "      <td>0</td>\n",
              "      <td>0</td>\n",
              "      <td>0</td>\n",
              "      <td>0</td>\n",
              "      <td>3</td>\n",
              "      <td>1995</td>\n",
              "      <td>2</td>\n",
              "      <td>53</td>\n",
              "      <td>F</td>\n",
              "      <td>other</td>\n",
              "      <td>94043</td>\n",
              "      <td>4</td>\n",
              "      <td>888550871</td>\n",
              "    </tr>\n",
              "    <tr>\n",
              "      <th>2</th>\n",
              "      <td>1</td>\n",
              "      <td>Toy Story</td>\n",
              "      <td>01-Jan-1995</td>\n",
              "      <td>0</td>\n",
              "      <td>0</td>\n",
              "      <td>0</td>\n",
              "      <td>1</td>\n",
              "      <td>1</td>\n",
              "      <td>1</td>\n",
              "      <td>0</td>\n",
              "      <td>0</td>\n",
              "      <td>0</td>\n",
              "      <td>0</td>\n",
              "      <td>0</td>\n",
              "      <td>0</td>\n",
              "      <td>0</td>\n",
              "      <td>0</td>\n",
              "      <td>0</td>\n",
              "      <td>0</td>\n",
              "      <td>0</td>\n",
              "      <td>0</td>\n",
              "      <td>0</td>\n",
              "      <td>3</td>\n",
              "      <td>1995</td>\n",
              "      <td>5</td>\n",
              "      <td>33</td>\n",
              "      <td>F</td>\n",
              "      <td>other</td>\n",
              "      <td>15213</td>\n",
              "      <td>4</td>\n",
              "      <td>875635748</td>\n",
              "    </tr>\n",
              "    <tr>\n",
              "      <th>3</th>\n",
              "      <td>1</td>\n",
              "      <td>Toy Story</td>\n",
              "      <td>01-Jan-1995</td>\n",
              "      <td>0</td>\n",
              "      <td>0</td>\n",
              "      <td>0</td>\n",
              "      <td>1</td>\n",
              "      <td>1</td>\n",
              "      <td>1</td>\n",
              "      <td>0</td>\n",
              "      <td>0</td>\n",
              "      <td>0</td>\n",
              "      <td>0</td>\n",
              "      <td>0</td>\n",
              "      <td>0</td>\n",
              "      <td>0</td>\n",
              "      <td>0</td>\n",
              "      <td>0</td>\n",
              "      <td>0</td>\n",
              "      <td>0</td>\n",
              "      <td>0</td>\n",
              "      <td>0</td>\n",
              "      <td>3</td>\n",
              "      <td>1995</td>\n",
              "      <td>6</td>\n",
              "      <td>42</td>\n",
              "      <td>M</td>\n",
              "      <td>executive</td>\n",
              "      <td>98101</td>\n",
              "      <td>4</td>\n",
              "      <td>883599478</td>\n",
              "    </tr>\n",
              "    <tr>\n",
              "      <th>4</th>\n",
              "      <td>1</td>\n",
              "      <td>Toy Story</td>\n",
              "      <td>01-Jan-1995</td>\n",
              "      <td>0</td>\n",
              "      <td>0</td>\n",
              "      <td>0</td>\n",
              "      <td>1</td>\n",
              "      <td>1</td>\n",
              "      <td>1</td>\n",
              "      <td>0</td>\n",
              "      <td>0</td>\n",
              "      <td>0</td>\n",
              "      <td>0</td>\n",
              "      <td>0</td>\n",
              "      <td>0</td>\n",
              "      <td>0</td>\n",
              "      <td>0</td>\n",
              "      <td>0</td>\n",
              "      <td>0</td>\n",
              "      <td>0</td>\n",
              "      <td>0</td>\n",
              "      <td>0</td>\n",
              "      <td>3</td>\n",
              "      <td>1995</td>\n",
              "      <td>10</td>\n",
              "      <td>53</td>\n",
              "      <td>M</td>\n",
              "      <td>lawyer</td>\n",
              "      <td>90703</td>\n",
              "      <td>4</td>\n",
              "      <td>877888877</td>\n",
              "    </tr>\n",
              "  </tbody>\n",
              "</table>\n",
              "</div>"
            ],
            "text/plain": [
              "   movie id movie title release date  ...  zip code  rating  timestamp\n",
              "0         1  Toy Story   01-Jan-1995  ...     85711       5  874965758\n",
              "1         1  Toy Story   01-Jan-1995  ...     94043       4  888550871\n",
              "2         1  Toy Story   01-Jan-1995  ...     15213       4  875635748\n",
              "3         1  Toy Story   01-Jan-1995  ...     98101       4  883599478\n",
              "4         1  Toy Story   01-Jan-1995  ...     90703       4  877888877\n",
              "\n",
              "[5 rows x 31 columns]"
            ]
          },
          "metadata": {
            "tags": []
          },
          "execution_count": 191
        }
      ]
    },
    {
      "cell_type": "code",
      "metadata": {
        "id": "daEzbMVrvgkw"
      },
      "source": [
        "Genre_by_gender = df.groupby('gender').sum().loc[:,'Action':'Western'] "
      ],
      "execution_count": 192,
      "outputs": []
    },
    {
      "cell_type": "code",
      "metadata": {
        "id": "4NrsJz9LNhIr"
      },
      "source": [
        "Genre_by_gender['total'] = df['gender'].value_counts()  #Row total of the dataframe"
      ],
      "execution_count": 193,
      "outputs": []
    },
    {
      "cell_type": "code",
      "metadata": {
        "colab": {
          "base_uri": "https://localhost:8080/",
          "height": 138
        },
        "id": "4kTBACGRNkob",
        "outputId": "b0caa3f1-9dd4-4df4-a452-0255a9bfed79"
      },
      "source": [
        "Genre_by_gender"
      ],
      "execution_count": 194,
      "outputs": [
        {
          "output_type": "execute_result",
          "data": {
            "text/html": [
              "<div>\n",
              "<style scoped>\n",
              "    .dataframe tbody tr th:only-of-type {\n",
              "        vertical-align: middle;\n",
              "    }\n",
              "\n",
              "    .dataframe tbody tr th {\n",
              "        vertical-align: top;\n",
              "    }\n",
              "\n",
              "    .dataframe thead th {\n",
              "        text-align: right;\n",
              "    }\n",
              "</style>\n",
              "<table border=\"1\" class=\"dataframe\">\n",
              "  <thead>\n",
              "    <tr style=\"text-align: right;\">\n",
              "      <th></th>\n",
              "      <th>Action</th>\n",
              "      <th>Adventure</th>\n",
              "      <th>Animation</th>\n",
              "      <th>Childrens</th>\n",
              "      <th>Comedy</th>\n",
              "      <th>Crime</th>\n",
              "      <th>Documentary</th>\n",
              "      <th>Drama</th>\n",
              "      <th>Fantasy</th>\n",
              "      <th>Film-Noir</th>\n",
              "      <th>Horror</th>\n",
              "      <th>Musical</th>\n",
              "      <th>Mystery</th>\n",
              "      <th>Romance</th>\n",
              "      <th>Sci-Fi</th>\n",
              "      <th>Thriller</th>\n",
              "      <th>War</th>\n",
              "      <th>Western</th>\n",
              "      <th>total</th>\n",
              "    </tr>\n",
              "    <tr>\n",
              "      <th>gender</th>\n",
              "      <th></th>\n",
              "      <th></th>\n",
              "      <th></th>\n",
              "      <th></th>\n",
              "      <th></th>\n",
              "      <th></th>\n",
              "      <th></th>\n",
              "      <th></th>\n",
              "      <th></th>\n",
              "      <th></th>\n",
              "      <th></th>\n",
              "      <th></th>\n",
              "      <th></th>\n",
              "      <th></th>\n",
              "      <th></th>\n",
              "      <th></th>\n",
              "      <th></th>\n",
              "      <th></th>\n",
              "      <th></th>\n",
              "    </tr>\n",
              "  </thead>\n",
              "  <tbody>\n",
              "    <tr>\n",
              "      <th>F</th>\n",
              "      <td>5442</td>\n",
              "      <td>3141</td>\n",
              "      <td>995</td>\n",
              "      <td>2232</td>\n",
              "      <td>8068</td>\n",
              "      <td>1794</td>\n",
              "      <td>187</td>\n",
              "      <td>11008</td>\n",
              "      <td>363</td>\n",
              "      <td>385</td>\n",
              "      <td>1197</td>\n",
              "      <td>1442</td>\n",
              "      <td>1314</td>\n",
              "      <td>5858</td>\n",
              "      <td>2629</td>\n",
              "      <td>5086</td>\n",
              "      <td>2189</td>\n",
              "      <td>371</td>\n",
              "      <td>25738</td>\n",
              "    </tr>\n",
              "    <tr>\n",
              "      <th>M</th>\n",
              "      <td>20147</td>\n",
              "      <td>10612</td>\n",
              "      <td>2610</td>\n",
              "      <td>4950</td>\n",
              "      <td>21764</td>\n",
              "      <td>6261</td>\n",
              "      <td>571</td>\n",
              "      <td>28887</td>\n",
              "      <td>989</td>\n",
              "      <td>1348</td>\n",
              "      <td>4120</td>\n",
              "      <td>3512</td>\n",
              "      <td>3931</td>\n",
              "      <td>13603</td>\n",
              "      <td>10101</td>\n",
              "      <td>16786</td>\n",
              "      <td>7209</td>\n",
              "      <td>1483</td>\n",
              "      <td>74252</td>\n",
              "    </tr>\n",
              "  </tbody>\n",
              "</table>\n",
              "</div>"
            ],
            "text/plain": [
              "        Action  Adventure  Animation  Childrens  ...  Thriller   War  Western  total\n",
              "gender                                           ...                                \n",
              "F         5442       3141        995       2232  ...      5086  2189      371  25738\n",
              "M        20147      10612       2610       4950  ...     16786  7209     1483  74252\n",
              "\n",
              "[2 rows x 19 columns]"
            ]
          },
          "metadata": {
            "tags": []
          },
          "execution_count": 194
        }
      ]
    },
    {
      "cell_type": "code",
      "metadata": {
        "colab": {
          "base_uri": "https://localhost:8080/",
          "height": 138
        },
        "id": "yGpwdIL2NqKu",
        "outputId": "021a5077-e5c6-46dc-c298-907cb89941aa"
      },
      "source": [
        "Genre_by_gender.div(Genre_by_gender.total, axis= 0) * 100  #dividing each cell with row total and multiplying by 100"
      ],
      "execution_count": 195,
      "outputs": [
        {
          "output_type": "execute_result",
          "data": {
            "text/html": [
              "<div>\n",
              "<style scoped>\n",
              "    .dataframe tbody tr th:only-of-type {\n",
              "        vertical-align: middle;\n",
              "    }\n",
              "\n",
              "    .dataframe tbody tr th {\n",
              "        vertical-align: top;\n",
              "    }\n",
              "\n",
              "    .dataframe thead th {\n",
              "        text-align: right;\n",
              "    }\n",
              "</style>\n",
              "<table border=\"1\" class=\"dataframe\">\n",
              "  <thead>\n",
              "    <tr style=\"text-align: right;\">\n",
              "      <th></th>\n",
              "      <th>Action</th>\n",
              "      <th>Adventure</th>\n",
              "      <th>Animation</th>\n",
              "      <th>Childrens</th>\n",
              "      <th>Comedy</th>\n",
              "      <th>Crime</th>\n",
              "      <th>Documentary</th>\n",
              "      <th>Drama</th>\n",
              "      <th>Fantasy</th>\n",
              "      <th>Film-Noir</th>\n",
              "      <th>Horror</th>\n",
              "      <th>Musical</th>\n",
              "      <th>Mystery</th>\n",
              "      <th>Romance</th>\n",
              "      <th>Sci-Fi</th>\n",
              "      <th>Thriller</th>\n",
              "      <th>War</th>\n",
              "      <th>Western</th>\n",
              "      <th>total</th>\n",
              "    </tr>\n",
              "    <tr>\n",
              "      <th>gender</th>\n",
              "      <th></th>\n",
              "      <th></th>\n",
              "      <th></th>\n",
              "      <th></th>\n",
              "      <th></th>\n",
              "      <th></th>\n",
              "      <th></th>\n",
              "      <th></th>\n",
              "      <th></th>\n",
              "      <th></th>\n",
              "      <th></th>\n",
              "      <th></th>\n",
              "      <th></th>\n",
              "      <th></th>\n",
              "      <th></th>\n",
              "      <th></th>\n",
              "      <th></th>\n",
              "      <th></th>\n",
              "      <th></th>\n",
              "    </tr>\n",
              "  </thead>\n",
              "  <tbody>\n",
              "    <tr>\n",
              "      <th>F</th>\n",
              "      <td>21.14</td>\n",
              "      <td>12.20</td>\n",
              "      <td>3.87</td>\n",
              "      <td>8.67</td>\n",
              "      <td>31.35</td>\n",
              "      <td>6.97</td>\n",
              "      <td>0.73</td>\n",
              "      <td>42.77</td>\n",
              "      <td>1.41</td>\n",
              "      <td>1.50</td>\n",
              "      <td>4.65</td>\n",
              "      <td>5.60</td>\n",
              "      <td>5.11</td>\n",
              "      <td>22.76</td>\n",
              "      <td>10.21</td>\n",
              "      <td>19.76</td>\n",
              "      <td>8.50</td>\n",
              "      <td>1.44</td>\n",
              "      <td>100.00</td>\n",
              "    </tr>\n",
              "    <tr>\n",
              "      <th>M</th>\n",
              "      <td>27.13</td>\n",
              "      <td>14.29</td>\n",
              "      <td>3.52</td>\n",
              "      <td>6.67</td>\n",
              "      <td>29.31</td>\n",
              "      <td>8.43</td>\n",
              "      <td>0.77</td>\n",
              "      <td>38.90</td>\n",
              "      <td>1.33</td>\n",
              "      <td>1.82</td>\n",
              "      <td>5.55</td>\n",
              "      <td>4.73</td>\n",
              "      <td>5.29</td>\n",
              "      <td>18.32</td>\n",
              "      <td>13.60</td>\n",
              "      <td>22.61</td>\n",
              "      <td>9.71</td>\n",
              "      <td>2.00</td>\n",
              "      <td>100.00</td>\n",
              "    </tr>\n",
              "  </tbody>\n",
              "</table>\n",
              "</div>"
            ],
            "text/plain": [
              "        Action  Adventure  Animation  Childrens  ...  Thriller  War  Western  total\n",
              "gender                                           ...                               \n",
              "F        21.14      12.20       3.87       8.67  ...     19.76 8.50     1.44 100.00\n",
              "M        27.13      14.29       3.52       6.67  ...     22.61 9.71     2.00 100.00\n",
              "\n",
              "[2 rows x 19 columns]"
            ]
          },
          "metadata": {
            "tags": []
          },
          "execution_count": 195
        }
      ]
    },
    {
      "cell_type": "markdown",
      "metadata": {
        "id": "TwFnvnOivgkx"
      },
      "source": [
        "#### Some Conclusions:\n",
        "\n"
      ]
    },
    {
      "cell_type": "markdown",
      "metadata": {
        "id": "dISkOMAqOBIc"
      },
      "source": [
        "\r\n",
        "1. Of all the ratings given by women 43% were for Drama movies and for men it was 39%. Women watch more Drama\r\n",
        "\r\n",
        "2. Of all the ratings given by women 10% were for Sci-FI movies and for men it was 14%. Therefore more men watch more Sci-Fi movies than women\r\n",
        "\r\n",
        "3. Of all the ratings given by women 23% were for Drama movies and for men it was 18%. Therefore more women watch Romance movies"
      ]
    }
  ]
}